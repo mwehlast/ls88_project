{
 "cells": [
  {
   "cell_type": "code",
   "execution_count": 9,
   "metadata": {},
   "outputs": [],
   "source": [
    "import pandas as pd\n",
    "import numpy as np\n",
    "import matplotlib.pyplot as plt\n",
    "import seaborn as sns\n",
    "\n",
    "df = pd.read_csv('dataframe.csv', sep = ',')"
   ]
  },
  {
   "cell_type": "markdown",
   "metadata": {},
   "source": [
    "# Data included "
   ]
  },
  {
   "cell_type": "markdown",
   "metadata": {},
   "source": [
    "The data was originally in the SQLite format downloaded from https://www.kaggle.com/hugomathien/soccer (European Soccer Database). <br>\n",
    "Additional data was gathered from https://www.kaggle.com/jiezi2004/soccer (European Soccer Database Supplementary. <br>\n",
    "We have chosen to look at only the Premier League (England) for this project. <br>\n",
    "Data included for the project is:"
   ]
  },
  {
   "cell_type": "code",
   "execution_count": 4,
   "metadata": {},
   "outputs": [
    {
     "data": {
      "text/plain": [
       "array(['Unnamed: 0', 'id', 'country_id', 'league_id', 'season', 'stage',\n",
       "       'date', 'match_api_id', 'home_team_api_id', 'away_team_api_id',\n",
       "       'home_team_goal', 'away_team_goal', 'home_y1', 'home_y2', 'home_r',\n",
       "       'away_y1', 'away_y2', 'away_r', 'home_fouls', 'away_fouls',\n",
       "       'home_poss', 'away_poss'], dtype=object)"
      ]
     },
     "execution_count": 4,
     "metadata": {},
     "output_type": "execute_result"
    }
   ],
   "source": [
    "df.columns.values"
   ]
  },
  {
   "cell_type": "markdown",
   "metadata": {},
   "source": [
    "id: Unique ID for match <br>\n",
    "country_id: Denotes country (can be omitted after filtering for England) <br>\n",
    "league_id: Which division the game is taking place in <br>\n",
    "season: season, e.g. 2012/2013 <br>\n",
    "stage: where the game is played <br>\n",
    "date: date <br>\n",
    "match_api_id: identifier related to the original data source <br>\n",
    "home_team_api_id: unique indentifier for the home team <br>\n",
    "away_team_api_id: unique identifier for the away team <br>\n",
    "home_team_goal: number of goals scored by the home team <br>\n",
    "away_team_goal: number of goals scored by the away team <br>\n",
    "home_y1: number of first time offence yellow cards for the home team in a match <br>\n",
    "home_y2: number of second time offence yellow cards for the home team in a match <br>\n",
    "home_r: number of red cards for the home team in a match <br>\n",
    "away_y1: number of first time offence yellow cards for the away team in a match <br>\n",
    "away_y2: number of second time offence yellow cards for the away team in a match <br>\n",
    "away_r: number of red cards for the away team in a match <br>\n",
    "home_fouls: number of fouls committed by the home team in a match <br>\n",
    "away_fouls: number of fouls committed by the away team in a match <br>\n",
    "home_poss: average possession for the home team in a match <br>\n",
    "away_poss: average possession for the away team in a match "
   ]
  },
  {
   "cell_type": "markdown",
   "metadata": {},
   "source": [
    "# Descriptive Statistics "
   ]
  },
  {
   "cell_type": "markdown",
   "metadata": {},
   "source": [
    "Looking at ordinal and ratio variables we can describe their statistics."
   ]
  },
  {
   "cell_type": "code",
   "execution_count": 7,
   "metadata": {},
   "outputs": [
    {
     "data": {
      "text/html": [
       "<div>\n",
       "<style>\n",
       "    .dataframe thead tr:only-child th {\n",
       "        text-align: right;\n",
       "    }\n",
       "\n",
       "    .dataframe thead th {\n",
       "        text-align: left;\n",
       "    }\n",
       "\n",
       "    .dataframe tbody tr th {\n",
       "        vertical-align: top;\n",
       "    }\n",
       "</style>\n",
       "<table border=\"1\" class=\"dataframe\">\n",
       "  <thead>\n",
       "    <tr style=\"text-align: right;\">\n",
       "      <th></th>\n",
       "      <th>home_team_goal</th>\n",
       "      <th>away_team_goal</th>\n",
       "      <th>home_y1</th>\n",
       "      <th>home_y2</th>\n",
       "      <th>home_r</th>\n",
       "      <th>away_y1</th>\n",
       "      <th>away_y2</th>\n",
       "      <th>away_r</th>\n",
       "      <th>home_fouls</th>\n",
       "      <th>away_fouls</th>\n",
       "      <th>home_poss</th>\n",
       "      <th>away_poss</th>\n",
       "    </tr>\n",
       "  </thead>\n",
       "  <tbody>\n",
       "    <tr>\n",
       "      <th>count</th>\n",
       "      <td>3040.000000</td>\n",
       "      <td>3040.000000</td>\n",
       "      <td>3040.000000</td>\n",
       "      <td>3040.000000</td>\n",
       "      <td>3040.000000</td>\n",
       "      <td>3040.000000</td>\n",
       "      <td>3040.000000</td>\n",
       "      <td>3040.000000</td>\n",
       "      <td>3040.000000</td>\n",
       "      <td>3040.000000</td>\n",
       "      <td>3040.000000</td>\n",
       "      <td>3040.000000</td>\n",
       "    </tr>\n",
       "    <tr>\n",
       "      <th>mean</th>\n",
       "      <td>1.550987</td>\n",
       "      <td>1.159539</td>\n",
       "      <td>1.417105</td>\n",
       "      <td>0.023026</td>\n",
       "      <td>0.041776</td>\n",
       "      <td>1.802303</td>\n",
       "      <td>0.045066</td>\n",
       "      <td>0.051645</td>\n",
       "      <td>10.691118</td>\n",
       "      <td>11.397697</td>\n",
       "      <td>51.798191</td>\n",
       "      <td>48.037335</td>\n",
       "    </tr>\n",
       "    <tr>\n",
       "      <th>std</th>\n",
       "      <td>1.311615</td>\n",
       "      <td>1.144629</td>\n",
       "      <td>1.167892</td>\n",
       "      <td>0.150012</td>\n",
       "      <td>0.204984</td>\n",
       "      <td>1.285526</td>\n",
       "      <td>0.212187</td>\n",
       "      <td>0.230092</td>\n",
       "      <td>3.545546</td>\n",
       "      <td>3.687183</td>\n",
       "      <td>8.866714</td>\n",
       "      <td>8.831752</td>\n",
       "    </tr>\n",
       "    <tr>\n",
       "      <th>min</th>\n",
       "      <td>0.000000</td>\n",
       "      <td>0.000000</td>\n",
       "      <td>0.000000</td>\n",
       "      <td>0.000000</td>\n",
       "      <td>0.000000</td>\n",
       "      <td>0.000000</td>\n",
       "      <td>0.000000</td>\n",
       "      <td>0.000000</td>\n",
       "      <td>1.000000</td>\n",
       "      <td>1.000000</td>\n",
       "      <td>0.000000</td>\n",
       "      <td>0.000000</td>\n",
       "    </tr>\n",
       "    <tr>\n",
       "      <th>25%</th>\n",
       "      <td>1.000000</td>\n",
       "      <td>0.000000</td>\n",
       "      <td>1.000000</td>\n",
       "      <td>0.000000</td>\n",
       "      <td>0.000000</td>\n",
       "      <td>1.000000</td>\n",
       "      <td>0.000000</td>\n",
       "      <td>0.000000</td>\n",
       "      <td>8.000000</td>\n",
       "      <td>9.000000</td>\n",
       "      <td>46.500000</td>\n",
       "      <td>42.500000</td>\n",
       "    </tr>\n",
       "    <tr>\n",
       "      <th>50%</th>\n",
       "      <td>1.000000</td>\n",
       "      <td>1.000000</td>\n",
       "      <td>1.000000</td>\n",
       "      <td>0.000000</td>\n",
       "      <td>0.000000</td>\n",
       "      <td>2.000000</td>\n",
       "      <td>0.000000</td>\n",
       "      <td>0.000000</td>\n",
       "      <td>11.000000</td>\n",
       "      <td>11.000000</td>\n",
       "      <td>51.750000</td>\n",
       "      <td>48.155556</td>\n",
       "    </tr>\n",
       "    <tr>\n",
       "      <th>75%</th>\n",
       "      <td>2.000000</td>\n",
       "      <td>2.000000</td>\n",
       "      <td>2.000000</td>\n",
       "      <td>0.000000</td>\n",
       "      <td>0.000000</td>\n",
       "      <td>3.000000</td>\n",
       "      <td>0.000000</td>\n",
       "      <td>0.000000</td>\n",
       "      <td>13.000000</td>\n",
       "      <td>14.000000</td>\n",
       "      <td>57.500000</td>\n",
       "      <td>53.500000</td>\n",
       "    </tr>\n",
       "    <tr>\n",
       "      <th>max</th>\n",
       "      <td>9.000000</td>\n",
       "      <td>6.000000</td>\n",
       "      <td>7.000000</td>\n",
       "      <td>1.000000</td>\n",
       "      <td>2.000000</td>\n",
       "      <td>9.000000</td>\n",
       "      <td>2.000000</td>\n",
       "      <td>2.000000</td>\n",
       "      <td>26.000000</td>\n",
       "      <td>25.000000</td>\n",
       "      <td>79.750000</td>\n",
       "      <td>78.750000</td>\n",
       "    </tr>\n",
       "  </tbody>\n",
       "</table>\n",
       "</div>"
      ],
      "text/plain": [
       "       home_team_goal  away_team_goal      home_y1      home_y2       home_r  \\\n",
       "count     3040.000000     3040.000000  3040.000000  3040.000000  3040.000000   \n",
       "mean         1.550987        1.159539     1.417105     0.023026     0.041776   \n",
       "std          1.311615        1.144629     1.167892     0.150012     0.204984   \n",
       "min          0.000000        0.000000     0.000000     0.000000     0.000000   \n",
       "25%          1.000000        0.000000     1.000000     0.000000     0.000000   \n",
       "50%          1.000000        1.000000     1.000000     0.000000     0.000000   \n",
       "75%          2.000000        2.000000     2.000000     0.000000     0.000000   \n",
       "max          9.000000        6.000000     7.000000     1.000000     2.000000   \n",
       "\n",
       "           away_y1      away_y2       away_r   home_fouls   away_fouls  \\\n",
       "count  3040.000000  3040.000000  3040.000000  3040.000000  3040.000000   \n",
       "mean      1.802303     0.045066     0.051645    10.691118    11.397697   \n",
       "std       1.285526     0.212187     0.230092     3.545546     3.687183   \n",
       "min       0.000000     0.000000     0.000000     1.000000     1.000000   \n",
       "25%       1.000000     0.000000     0.000000     8.000000     9.000000   \n",
       "50%       2.000000     0.000000     0.000000    11.000000    11.000000   \n",
       "75%       3.000000     0.000000     0.000000    13.000000    14.000000   \n",
       "max       9.000000     2.000000     2.000000    26.000000    25.000000   \n",
       "\n",
       "         home_poss    away_poss  \n",
       "count  3040.000000  3040.000000  \n",
       "mean     51.798191    48.037335  \n",
       "std       8.866714     8.831752  \n",
       "min       0.000000     0.000000  \n",
       "25%      46.500000    42.500000  \n",
       "50%      51.750000    48.155556  \n",
       "75%      57.500000    53.500000  \n",
       "max      79.750000    78.750000  "
      ]
     },
     "execution_count": 7,
     "metadata": {},
     "output_type": "execute_result"
    }
   ],
   "source": [
    "#Subset non-categorical variables\n",
    "df_noncategorical = df.loc[:, ['home_team_goal', 'away_team_goal',\n",
    "                           'home_y1', 'home_y2', 'home_r', \n",
    "                           'away_y1', 'away_y2', 'away_r',\n",
    "                           'home_fouls', 'away_fouls',\n",
    "                           'home_poss', 'away_poss']]\n",
    "\n",
    "df_noncategorical.describe()"
   ]
  },
  {
   "cell_type": "markdown",
   "metadata": {},
   "source": [
    "We can also look at the correlation between variables"
   ]
  },
  {
   "cell_type": "code",
   "execution_count": 12,
   "metadata": {},
   "outputs": [
    {
     "data": {
      "text/plain": [
       "<matplotlib.axes._subplots.AxesSubplot at 0x1a237ee9e8>"
      ]
     },
     "execution_count": 12,
     "metadata": {},
     "output_type": "execute_result"
    },
    {
     "data": {
      "image/png": "[encoded data removed]",
      "text/plain": [
       "<matplotlib.figure.Figure at 0x1a2389e6d8>"
      ]
     },
     "metadata": {
      "needs_background": "light"
     },
     "output_type": "display_data"
    }
   ],
   "source": [
    "plt.figure(figsize = (12,10))\n",
    "corr = df_noncategorical.corr()\n",
    "sns.heatmap(corr, \n",
    "        xticklabels=corr.columns,\n",
    "        yticklabels=corr.columns)"
   ]
  },
  {
   "cell_type": "markdown",
   "metadata": {},
   "source": [
    "We see (which may not be super surprising) that correlation generally exists between possession and goals as well as fouls and cards."
   ]
  },
  {
   "cell_type": "code",
   "execution_count": null,
   "metadata": {},
   "outputs": [],
   "source": []
  }
 ],
 "metadata": {
  "kernelspec": {
   "display_name": "Python 3",
   "language": "python",
   "name": "python3"
  },
  "language_info": {
   "codemirror_mode": {
    "name": "ipython",
    "version": 3
   },
   "file_extension": ".py",
   "mimetype": "text/x-python",
   "name": "python",
   "nbconvert_exporter": "python",
   "pygments_lexer": "ipython3",
   "version": "3.6.6"
  }
 },
 "nbformat": 4,
 "nbformat_minor": 2
}
